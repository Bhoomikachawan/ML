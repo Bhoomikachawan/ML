{
  "nbformat": 4,
  "nbformat_minor": 0,
  "metadata": {
    "colab": {
      "provenance": []
    },
    "kernelspec": {
      "name": "python3",
      "display_name": "Python 3"
    },
    "language_info": {
      "name": "python"
    }
  },
  "cells": [
    {
      "cell_type": "code",
      "execution_count": null,
      "metadata": {
        "colab": {
          "base_uri": "https://localhost:8080/"
        },
        "id": "ovnD0sH2af0Y",
        "outputId": "02cfa7f1-caa5-41f1-ca68-f8fb1ac366e4"
      },
      "outputs": [
        {
          "output_type": "stream",
          "name": "stdout",
          "text": [
            "False\n",
            "True\n",
            "True\n",
            "True\n",
            "False\n",
            "False\n",
            "False\n",
            "True\n"
          ]
        }
      ],
      "source": [
        "import random\n",
        "\n",
        "def convergence(w, P, N):\n",
        "  for x in P:\n",
        "    val = w[0] * 1 + w[1] * x[0] + w[2] * x[1]\n",
        "    if (val < 0):\n",
        "      return False\n",
        "  for x in N:\n",
        "    val = w[0] * 1 + w[1] * x[0] + w[2] * x[1]\n",
        "    if (val >= 0):\n",
        "      return False\n",
        "  return True\n",
        "\n",
        "def perceptronSingleNode(w, P, N):\n",
        "  while not convergence(w, P, N):\n",
        "    x = random.choice(P + N)\n",
        "    val = w[0] * 1 + w[1] * x[0] + w[2] * x[1]\n",
        "    if (val >= 0):\n",
        "      if (x in N):\n",
        "        w[0] -= 1\n",
        "        w[1] -= x[0]\n",
        "        w[2] -= x[1]\n",
        "    else:\n",
        "      if (x in P):\n",
        "        w[0] += 1\n",
        "        w[1] += x[0]\n",
        "        w[2] += x[1]\n",
        "  \n",
        "def test(w, x):\n",
        "  output = w[0] * 1\n",
        "  for i in range(len(x)):\n",
        "    output += w[i + 1] * x[i]\n",
        "  return output >= 0\n",
        "\n",
        "\n",
        "\n",
        "\n",
        "#OR gate\n",
        "orP = [[0, 1], [1, 0], [1, 1]]\n",
        "orN = [[0, 0]]\n",
        "\n",
        "orW = [0, 0, 0]\n",
        "\n",
        "perceptronSingleNode(orW, orP, orN)\n",
        "\n",
        "#testing out perceptron\n",
        "print(test(orW, [0, 0]))\n",
        "print(test(orW, [0, 1]))\n",
        "print(test(orW, [1, 0]))\n",
        "print(test(orW, [1, 1]))\n",
        "\n",
        "\n",
        "#AND gate\n",
        "andP = [[1, 1]]\n",
        "andN = [[0, 0], [0, 1], [1, 0]]\n",
        "andW = [0, 0, 0]\n",
        "\n",
        "perceptronSingleNode(andW, andP, andN)\n",
        "\n",
        "print(test(andW, [0, 0]))\n",
        "print(test(andW, [0, 1]))\n",
        "print(test(andW, [1, 0]))\n",
        "print(test(andW, [1, 1]))\n",
        "\n",
        "\n",
        "\n",
        "#EXOR gate\n",
        "\n",
        "exorP = [[0, 0], [1, 1]]\n",
        "exorN = [[0, 1], [1, 0]]\n",
        "exorW = [0, 0, 0]\n",
        "\n",
        "perceptronSingleNode(exorW, exorP, exorN)\n",
        "\n",
        "print(test(exorW, [0, 0]))\n",
        "print(test(exorW, [0, 1]))\n",
        "print(test(exorW, [1, 0]))\n",
        "print(test(exorW, [1, 1]))"
      ]
    }
  ]
}