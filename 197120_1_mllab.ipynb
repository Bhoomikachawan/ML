{
  "nbformat": 4,
  "nbformat_minor": 0,
  "metadata": {
    "colab": {
      "provenance": []
    },
    "kernelspec": {
      "name": "python3",
      "display_name": "Python 3"
    },
    "language_info": {
      "name": "python"
    }
  },
  "cells": [
    {
      "cell_type": "code",
      "execution_count": null,
      "metadata": {
        "id": "T0386PDcVzRB"
      },
      "outputs": [],
      "source": [
        "import numpy as np\n",
        "import random\n",
        "import copy"
      ]
    },
    {
      "cell_type": "code",
      "source": [],
      "metadata": {
        "id": "cPgA3pjNWBHc"
      },
      "execution_count": null,
      "outputs": []
    },
    {
      "cell_type": "code",
      "source": [
        "BoardSize = 8"
      ],
      "metadata": {
        "id": "MBvGorRMV1eZ"
      },
      "execution_count": null,
      "outputs": []
    },
    {
      "cell_type": "code",
      "source": [
        "def initializeBoard():\n",
        "    board=[[' ' for _ in range(BoardSize)] for _ in range(BoardSize)]\n",
        "    nRows = (BoardSize//2)-1\n",
        "    for i in range(nRows):\n",
        "        if(i%2==0):\n",
        "            start = 1\n",
        "        else:\n",
        "            start = 0\n",
        "        for j in range(start,BoardSize,2):\n",
        "            board[i][j]='B'\n",
        "    for i in range(BoardSize-1,BoardSize-1-nRows,-1):\n",
        "        if(i%2==0):\n",
        "            start = 1\n",
        "        else:\n",
        "            start = 0\n",
        "        for j in range(start,BoardSize,2):\n",
        "            board[i][j]='R'\n",
        "    return board"
      ],
      "metadata": {
        "id": "7WlSF8TEV4YI"
      },
      "execution_count": null,
      "outputs": []
    },
    {
      "cell_type": "code",
      "source": [
        "def isGameOver(board, symbol):\n",
        "    for i in range(BoardSize):\n",
        "        for j in range(BoardSize):\n",
        "            if(board[i][j]!=symbol):\n",
        "                return 0\n",
        "    return 1"
      ],
      "metadata": {
        "id": "uAmKkiQ9WCRV"
      },
      "execution_count": null,
      "outputs": []
    },
    {
      "cell_type": "code",
      "source": [
        "def canJump(board,symbol,r1,c1,r2,c2,r3,c3):\n",
        "    if(r3 < 0 or r3 >= BoardSize or c3 < 0 or c3 >= BoardSize):\n",
        "        return False\n",
        "    if(board[r3][c3]!=' '):\n",
        "        return False\n",
        "    if (symbol == 'R'):\n",
        "        if (board[r1][c1] == 'R' and r3 > r1):\n",
        "            return False\n",
        "        if (board[r2][c2] != 'B' and board[r2][c2] != 'KB'):\n",
        "            return False\n",
        "        return True;\n",
        "    \n",
        "    else:\n",
        "        if (board[r1][c1] == 'B' and r3 < r1):\n",
        "            return False\n",
        "        if (board[r2][c2] != 'R' and board[r2][c2] != 'KR'):\n",
        "            return False\n",
        "        return True\n",
        "def canMove(board,symbol,r1,c1,r2,c2):\n",
        "    if (r2 < 0 or r2 >= BoardSize or c2 < 0 or c2 >= BoardSize):\n",
        "        return False\n",
        "\n",
        "    if (board[r2][c2] != ' '):\n",
        "        return False\n",
        "\n",
        "    if (symbol == 'R'):\n",
        "        if (board[r1][c1] == 'R' and r2 > r1):\n",
        "            return False\n",
        "        return True\n",
        "    \n",
        "    else:\n",
        "        if (board[r1][c1] == 'B' and r2 < r1):\n",
        "            return False\n",
        "        return True\n",
        "def makeKings(board):\n",
        "  for j in range(BoardSize):\n",
        "    if(board[0][j]=='R'):\n",
        "      board[0][j]='KR'\n",
        "    if(board[BoardSize-1][j]=='B'):\n",
        "      board[BoardSize-1][j]='KB'"
      ],
      "metadata": {
        "id": "kDTIPiiKWKcD"
      },
      "execution_count": null,
      "outputs": []
    },
    {
      "cell_type": "code",
      "source": [
        "def getLegalMoves(boardState, symbol):\n",
        "    \n",
        "    legalMoves = []\n",
        "    \n",
        "    if(symbol=='B'):\n",
        "        playerKing='KB'\n",
        "    else:\n",
        "        playerKing='KR'\n",
        "    for i in range(len(boardState[0])):\n",
        "        for j in range(len(boardState[0])):\n",
        "            if(boardState[i][j]==symbol or boardState[i][j]==playerKing):\n",
        "                if(canJump(boardState,symbol,i,j,i+1,j+1,i+2,j+2)):\n",
        "                    tempBoard = copy.deepcopy(boardState)\n",
        "                    tempBoard[i+2][j+2]=tempBoard[i][j]\n",
        "                    tempBoard[i][j]=' '\n",
        "                    tempBoard[i+1][j+1]=' '\n",
        "                    makeKings(boardState)\n",
        "                    legalMoves.append(tempBoard)\n",
        "                if(canJump(boardState,symbol,i,j,i-1,j+1,i-2,j+2)):\n",
        "                    tempBoard = copy.deepcopy(boardState)\n",
        "                    tempBoard[i-2][j+2]=tempBoard[i][j]\n",
        "                    tempBoard[i][j]=' '\n",
        "                    tempBoard[i-1][j+1]=' '\n",
        "                    makeKings(boardState)\n",
        "                    legalMoves.append(tempBoard)\n",
        "                if(canJump(boardState,symbol,i,j,i+1,j-1,i+2,j-2)):\n",
        "                    tempBoard = copy.deepcopy(boardState)\n",
        "                    tempBoard[i+2][j-2]=tempBoard[i][j]\n",
        "                    tempBoard[i][j]=' '\n",
        "                    tempBoard[i+1][j-1]=' '\n",
        "                    makeKings(boardState)\n",
        "                    legalMoves.append(tempBoard)\n",
        "                if(canJump(boardState,symbol,i,j,i-1,j-1,i-2,j-2)):\n",
        "                    tempBoard = copy.deepcopy(boardState)\n",
        "                    tempBoard[i-2][j-2]=tempBoard[i][j]\n",
        "                    tempBoard[i][j]=' '\n",
        "                    tempBoard[i-1][j-1]=' '\n",
        "                    makeKings(boardState)\n",
        "                    legalMoves.append(tempBoard)\n",
        "    if(len(legalMoves)==0):\n",
        "        for i in range(len(boardState[0])):\n",
        "            for j in range(len(boardState[0])):\n",
        "                if(boardState[i][j]==symbol or boardState[i][j]==playerKing):\n",
        "                    if(canMove(boardState,symbol,i,j,i+1,j+1)):\n",
        "                        tempBoard = copy.deepcopy(boardState)\n",
        "                        tempBoard[i+1][j+1]=tempBoard[i][j]\n",
        "                        tempBoard[i][j]=' '\n",
        "                        makeKings(boardState)\n",
        "                        legalMoves.append(tempBoard)\n",
        "                    if(canMove(boardState,symbol,i,j,i-1,j+1)):\n",
        "                        tempBoard = copy.deepcopy(boardState)\n",
        "                        tempBoard[i-1][j+1]=tempBoard[i][j]\n",
        "                        tempBoard[i][j]=' '\n",
        "                        makeKings(boardState)\n",
        "                        legalMoves.append(tempBoard)\n",
        "                    if(canMove(boardState,symbol,i,j,i+1,j-1)):\n",
        "                        tempBoard = copy.deepcopy(boardState)\n",
        "                        tempBoard[i+1][j-1]=tempBoard[i][j]\n",
        "                        tempBoard[i][j]=' '\n",
        "                        makeKings(boardState)\n",
        "                        legalMoves.append(tempBoard)\n",
        "                    if(canMove(boardState,symbol,i,j,i-1,j-1)):\n",
        "                        tempBoard = copy.deepcopy(boardState)\n",
        "                        tempBoard[i-1][j-1]=tempBoard[i][j]\n",
        "                        tempBoard[i][j]=' '\n",
        "                        makeKings(boardState)\n",
        "                        legalMoves.append(tempBoard)\n",
        "    \n",
        "    return legalMoves"
      ],
      "metadata": {
        "id": "Rnl1rfmyWL5_"
      },
      "execution_count": null,
      "outputs": []
    },
    {
      "cell_type": "code",
      "source": [
        "def getFeatures(board, symbol1, symbol2):\n",
        "    \n",
        "    x = np.zeros(7)\n",
        "    x[0]=1\n",
        "    for i in range(BoardSize):\n",
        "        for j in range(BoardSize):\n",
        "            if(board[i][j]==symbol1):\n",
        "                x[1]+=1\n",
        "            elif(board[i][j]==symbol2):\n",
        "                x[2]+=1\n",
        "            elif(board[i][j]==('K'+symbol1)):\n",
        "                x[3]+=1\n",
        "            elif(board[i][j]==('K'+symbol2)):\n",
        "                x[4]+=1\n",
        "            if(board[i][j]==symbol1 or board[i][j]==('K'+symbol1)):\n",
        "                if(canJump(board,symbol1,i,j,i+1,j+1,i+2,j+2)):\n",
        "                    x[5]+=1\n",
        "                if(canJump(board,symbol1,i,j,i-1,j+1,i-2,j+2)):\n",
        "                    x[5]+=1\n",
        "                if(canJump(board,symbol1,i,j,i+1,j-1,i+2,j-2)):\n",
        "                    x[5]+=1\n",
        "                if(canJump(board,symbol1,i,j,i-1,j-1,i-2,j-2)):\n",
        "                    x[5]+=1\n",
        "            elif(board[i][j]==symbol2 or board[i][j]==('K'+symbol2)):\n",
        "                if(canJump(board,symbol2,i,j,i+1,j+1,i+2,j+2)):\n",
        "                    x[6]+=1\n",
        "                if(canJump(board,symbol2,i,j,i-1,j+1,i-2,j+2)):\n",
        "                    x[6]+=1\n",
        "                if(canJump(board,symbol2,i,j,i+1,j-1,i+2,j-2)):\n",
        "                    x[6]+=1\n",
        "                if(canJump(board,symbol2,i,j,i-1,j-1,i-2,j-2)):\n",
        "                    x[6]+=1\n",
        "    return x"
      ],
      "metadata": {
        "id": "J0ua_sCyWScQ"
      },
      "execution_count": null,
      "outputs": []
    },
    {
      "cell_type": "code",
      "source": [
        "def printBoard(board):\n",
        "    for i in range(BoardSize):\n",
        "        for j in range(BoardSize):\n",
        "            print(board[i][j],end='|')\n",
        "        print()\n",
        "        for _ in range(2*BoardSize):\n",
        "            print(\"-\",end='')\n",
        "        print()"
      ],
      "metadata": {
        "id": "Z31ikS-fWaNC"
      },
      "execution_count": null,
      "outputs": []
    },
    {
      "cell_type": "code",
      "source": [
        "def getNonFinalBoardScore(weightVector,featureVector):\n",
        "    weightVector = np.array(weightVector).reshape((len(weightVector),1))\n",
        "    featureVector = np.array(featureVector).reshape((len(featureVector),1))\n",
        "    boardScore = np.dot(weightVector.T,featureVector)\n",
        "    return(boardScore[0][0])"
      ],
      "metadata": {
        "id": "sMQ4_0y1Wcef"
      },
      "execution_count": null,
      "outputs": []
    },
    {
      "cell_type": "code",
      "source": [
        "def chooseMove(board,symbol1,symbol2,weightVector):\n",
        "\n",
        "    legalMoves = getLegalMoves(board,symbol1)\n",
        "    if(len(legalMoves)==0):\n",
        "      return -1\n",
        "    legalMoveScores = [getNonFinalBoardScore(weightVector,\n",
        "                                             getFeatures(i,symbol1,symbol2)) for i in legalMoves]\n",
        "    return legalMoves[np.argmax(legalMoveScores)]"
      ],
      "metadata": {
        "id": "7AZxPS-sWf0L"
      },
      "execution_count": null,
      "outputs": []
    },
    {
      "cell_type": "code",
      "source": [
        "def chooseRandomMove(board,symbol):\n",
        "    legalMoves = getLegalMoves(board,symbol)\n",
        "    if(len(legalMoves)==0):\n",
        "      return -1\n",
        "    return random.choice(legalMoves)"
      ],
      "metadata": {
        "id": "BGFrvdAGWjkc"
      },
      "execution_count": null,
      "outputs": []
    },
    {
      "cell_type": "code",
      "source": [
        "def getGameHistory(symbols,weightVector1,weightVector2,board):\n",
        "    gameHistory = []\n",
        "    gameStatusFlag = True\n",
        "    \n",
        "    tempBoard = copy.deepcopy(board)\n",
        "    while(gameStatusFlag):\n",
        "        tempBoard = chooseMove(tempBoard,symbols[0],symbols[1],weightVector1)\n",
        "        if(tempBoard==-1):\n",
        "          break\n",
        "        gameHistory.append(tempBoard)\n",
        "        gameStatusFlag = not isGameOver(tempBoard,symbols[0])\n",
        "        if(gameStatusFlag == False):\n",
        "            break\n",
        "        tempBoard = chooseRandomMove(tempBoard,symbols[1])\n",
        "        if(tempBoard==-1):\n",
        "          break;\n",
        "        gameHistory.append(tempBoard)\n",
        "        gameStatusFlag =  not isGameOver(tempBoard,symbols[1])\n",
        "    return gameHistory"
      ],
      "metadata": {
        "id": "4mJbM2ZQWnaJ"
      },
      "execution_count": null,
      "outputs": []
    },
    {
      "cell_type": "code",
      "source": [
        "def getFinalBoardScore(board,symbol1,symbol2):\n",
        "\n",
        "    # If game ends in a draw\n",
        "    score = 0\n",
        "    # If player-1 wins\n",
        "    if(isGameOver(board,symbol1)):\n",
        "        score = 100\n",
        "    # If player-2 (i.e opponent) wins\n",
        "    elif(isGameOver(board,symbol2)):\n",
        "        score = -100\n",
        "    \n",
        "    return score"
      ],
      "metadata": {
        "id": "9ncOQV7ZWrRI"
      },
      "execution_count": null,
      "outputs": []
    },
    {
      "cell_type": "code",
      "source": [
        "def getTrainingSamples(weightVector,symbol1,symbol2,gameHistory):\n",
        "\n",
        "    trainingData=[]\n",
        "    for i in range(len(gameHistory)-1):\n",
        "        featureVector = getFeatures(gameHistory[i+1],symbol1,symbol2)\n",
        "        trainingData.append([featureVector,getNonFinalBoardScore(weightVector,featureVector)])\n",
        "    trainingData.append([getFeatures(gameHistory[-1],symbol1,symbol2),\n",
        "        getFinalBoardScore(gameHistory[-1],symbol1,symbol2)])\n",
        "    return trainingData"
      ],
      "metadata": {
        "id": "iD2e5DH1WxoG"
      },
      "execution_count": null,
      "outputs": []
    },
    {
      "cell_type": "code",
      "source": [
        "def getGameStatusCount(symbol1,symbol2,gameStatusCount,gameHistory):\n",
        "\n",
        "#     for board in gameHistory:\n",
        "#         printBoard(board)\n",
        "    finalScore = getFinalBoardScore(gameHistory[-1],symbol1,symbol2)\n",
        "    if(finalScore == 100):\n",
        "#         print(symbol1 + \" wins\")\n",
        "        gameStatusCount[0] += 1\n",
        "    elif(finalScore == -100):\n",
        "#         print(symbol2 + \" wins\")\n",
        "        gameStatusCount[1] += 1\n",
        "    else:\n",
        "#         print(\"Draw\")\n",
        "        gameStatusCount[2] += 1\n",
        "    return gameStatusCount"
      ],
      "metadata": {
        "id": "l0i4jURBWy0_"
      },
      "execution_count": null,
      "outputs": []
    },
    {
      "cell_type": "code",
      "source": [
        "def LMSRule(weightVector,trainData,lRate=0.01):\n",
        "    for t in trainData:\n",
        "        vTrainBoardState = t[1]\n",
        "        vHatBoardState = getNonFinalBoardScore(weightVector,t[0])\n",
        "        weightVector = weightVector + (lRate * (vTrainBoardState - vHatBoardState) * np.array(t[0]))\n",
        "    return weightVector\n",
        "symbols = ('R','B')\n",
        "numTrainingExamples = 10"
      ],
      "metadata": {
        "id": "mRp58HPJW2aT"
      },
      "execution_count": null,
      "outputs": []
    },
    {
      "cell_type": "code",
      "source": [
        "weightVectors = [np.random.rand(7),np.random.rand(7)]\n",
        "gameStatusCount = [0,0,0]\n",
        "\n",
        "for _ in range(numTrainingExamples):\n",
        "    \n",
        "    # Experiment Generator\n",
        "    initialBoardState = initializeBoard()\n",
        "\n",
        "    # Performance System\n",
        "    gameHistory = getGameHistory(symbols,weightVectors[0],weightVectors[1],initialBoardState)\n",
        "\n",
        "    # Critic\n",
        "    trainDataPlayer1 = getTrainingSamples(weightVectors[0],symbols[0],symbols[1],gameHistory)\n",
        "    trainDataPlayer2 = getTrainingSamples(weightVectors[1],symbols[1],symbols[0],gameHistory)\n",
        "    \n",
        "    # Display board states\n",
        "    gameStatusCount = getGameStatusCount(symbols[0],symbols[1],gameStatusCount,gameHistory)\n",
        "\n",
        "    # Generalizer\n",
        "    weightVectors = [LMSRule(weightVectors[0],trainDataPlayer1),LMSRule(weightVectors[1],trainDataPlayer1)]\n",
        "\n",
        "\n",
        "print(\"\\nTraining Results: (\" + \"#Games Player-1 Wins = \" + str(gameStatusCount[0]) +\n",
        "    \", #Games Player-2 Wins = \" + str(gameStatusCount[1]) + \", Games Drawn = \" + str(gameStatusCount[2]) +\n",
        "    \")\\n\")\n",
        "\n",
        "# Weight Learnt from previous games\n",
        "learntWeight =  list(np.mean(np.array([weightVectors[0],weightVectors[1]]),axis = 0))\n",
        "print(\"Final Learnt Weight Vector: \\n\"+ str(learntWeight))"
      ],
      "metadata": {
        "colab": {
          "base_uri": "https://localhost:8080/"
        },
        "id": "5dkbs_S6W6m_",
        "outputId": "590747c5-60bb-4152-94fb-1a53f8213786"
      },
      "execution_count": null,
      "outputs": [
        {
          "output_type": "stream",
          "name": "stdout",
          "text": [
            "\n",
            "Training Results: (#Games Player-1 Wins = 0, #Games Player-2 Wins = 0, Games Drawn = 10)\n",
            "\n",
            "Final Learnt Weight Vector: \n",
            "[-7.1637077125641895, -54.550559437639514, 18.425009941024715, 1.830403594404602, -1.1299896483902034, 57.32049383284025, -117.21617015563419]\n"
          ]
        }
      ]
    },
    {
      "cell_type": "code",
      "source": [
        "print(\"\\nStart Playing with Computer?(y/n)\")\n",
        "ans = input() \n",
        "while(ans == \"y\"):\n",
        "    \n",
        "    boardState = initializeBoard()\n",
        "    gameStatusFlag = True\n",
        "    gameHistory = []\n",
        "    print(\"\\nGame begins!!! You play with Red\\n\")\n",
        "    printBoard(boardState)\n",
        "    while(gameStatusFlag):\n",
        "        print('Your Turn:\\n')\n",
        "        print('Enter Row number (0-',BoardSize-1,\")\")\n",
        "        x = int(input())\n",
        "        print('Enter Column number (0-',BoardSize-1,\")\")\n",
        "        y = int(input())\n",
        "        print('Enter direction (0 for left diagonal, 1 for right diagonal)')\n",
        "        dir = int(input())\n",
        "        boardState[x][y] = ' '\n",
        "        if(dir==0):\n",
        "          if(canJump(boardState,'R',x,y,x-1,y-1,x-2,y-2)):\n",
        "            boardState[x-2][y-2]='R'\n",
        "            boardState[x-1][y-1]=' '\n",
        "            boardState[x][y]=' '\n",
        "          else:\n",
        "            boardState[x-1][y-1]='R'\n",
        "            boardState[x][y]=' '\n",
        "        else:\n",
        "          if(canJump(boardState,'R',x,y,x-1,y+1,x-2,y+2)):\n",
        "            boardState[x-2][y+2]='R'\n",
        "            boardState[x-1][y+1]=' '\n",
        "            boardState[x][y]=' '\n",
        "          else:\n",
        "            boardState[x-1][y+1]='R'\n",
        "            boardState[x][y]=' '\n",
        "        makeKings(boardState)\n",
        "        printBoard(boardState)\n",
        "        gameHistory.append(boardState)\n",
        "        gameStatusFlag =  not isGameOver(boardState,'R')\n",
        "        if(gameStatusFlag == False):\n",
        "            break\n",
        "        boardState = chooseMove(boardState,'B','R',learntWeight)\n",
        "        print('Computers\\'s Turn:\\n')\n",
        "        printBoard(boardState)\n",
        "        gameHistory.append(boardState)\n",
        "        gameStatusFlag = not isGameOver(boardState,'B')\n",
        "        \n",
        "    if(isGameOver(boardState,'B')):\n",
        "        print(\"Computer Wins!!!\")\n",
        "    elif(isGameOver(boardState,'R')):\n",
        "        print(\"You Win!!!\")\n",
        "    else:\n",
        "        print(\"Game is drawn!!!\")\n",
        "    print(\"Do you want to play another game?(y/n).\")\n",
        "    ans = input()\n",
        "    if(ans != 'y'):\n",
        "        break"
      ],
      "metadata": {
        "colab": {
          "base_uri": "https://localhost:8080/"
        },
        "id": "VCuhwpTwXFtO",
        "outputId": "2553b161-9bd4-4bac-ea6e-f19c9c53b7ae"
      },
      "execution_count": null,
      "outputs": [
        {
          "name": "stdout",
          "output_type": "stream",
          "text": [
            "\n",
            "Start Playing with Computer?(y/n)\n",
            "n\n"
          ]
        }
      ]
    }
  ]
}