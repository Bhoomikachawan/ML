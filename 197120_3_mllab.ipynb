{
  "cells": [
    {
      "cell_type": "code",
      "execution_count": null,
      "metadata": {
        "id": "wAWRAJbjXrsy"
      },
      "outputs": [],
      "source": [
        "import numpy as np"
      ]
    },
    {
      "cell_type": "code",
      "source": [
        "#Function : ADALINE \n",
        "def adaline(ip, op, learning_rate, epochs):  \n",
        "    #Hyper-parameters initialization \n",
        "    w = np.random.rand(1,3) * 10\n",
        "    w_1 = np.round(w[0][0], 1)\n",
        "    w_2 = np.round(w[0][1], 1)\n",
        "    theta = np.round(w[0][2], 1)\n",
        "\n",
        "    print(\"Initial randomised parameters : {},{},{}\".format(w_1,w_2,theta))\n",
        "    print(\"Expected output : {}\".format(op))\n",
        "    \n",
        "    #Error vector initialization\n",
        "    error = np.array([0,0,0,0])\n",
        "    E = np.sum(error)\n",
        "\n",
        "    vals = [[w_1, w_2, theta]]\n",
        "    \n",
        "    epoch = 1\n",
        "    while epoch < epochs:\n",
        "        p_ops = []\n",
        "        for i in range(len(ip)):\n",
        "            #Calculating the output of the adaline : Linear Summation + Acivation Function\n",
        "            p_op = np.dot(np.asarray([w_1, w_2]) , ip[i])  + theta\n",
        "            p_ops.append(p_op)\n",
        "\n",
        "            #Calculate the Convergence error : Target Output - Calculated Output\n",
        "            error[i] = op[i] - p_op\n",
        "\n",
        "            # print(\"{},{}\".format(p_op,error))\n",
        "\n",
        "            #Updating parameters from learning rate and error\n",
        "            w_1 = w_1 + learning_rate * error[i] * ip[i][0]\n",
        "            w_2 = w_2 + learning_rate * error[i] * ip[i][1]\n",
        "            theta = theta + learning_rate * error[i]\n",
        "    \n",
        "        #Storing the parameters as we learn and update\n",
        "        vals.append([w_1, w_2, theta])\n",
        "        \n",
        "        #Update error sum\n",
        "        E = np.sum(error)\n",
        "        print(\"[{}] Adaline's output: {}; Parameters : [{}, {}, {}]\".format(epoch, p_ops, w_1, w_2, theta))\n",
        "        \n",
        "        if E==0:\n",
        "          break\n",
        "         \n",
        "        epoch = epoch+1\n",
        "\n",
        "    print(\"Final parameters : {}, {}, {}\".format(w_1,w_2,theta))"
      ],
      "metadata": {
        "id": "8Cpqo10rusSn"
      },
      "execution_count": null,
      "outputs": []
    },
    {
      "cell_type": "code",
      "execution_count": null,
      "metadata": {
        "id": "FM9uBe2SE4Gf"
      },
      "outputs": [],
      "source": [
        "epochs = 500\n",
        "learning_rate = 0.05\n",
        "x = [[0,0], [0,1], [1,0], [1,1]]\n",
        "\n",
        "#Target outputs\n",
        "x_array = np.asarray(x)\n",
        "out_AND = x_array[:, 1] * x_array[:, 0]\n",
        "out_OR = [0, 1, 1, 1]\n",
        "out_XOR = [0, 1, 1, 0]"
      ]
    },
    {
      "cell_type": "code",
      "source": [
        "# Adaline for the AND Gate\n",
        "adaline(x,out_AND,learning_rate,epochs)"
      ],
      "metadata": {
        "colab": {
          "base_uri": "https://localhost:8080/"
        },
        "id": "nmXglfSsvZEi",
        "outputId": "b53ac497-664b-44c3-ec7d-d24e5f80b9cb"
      },
      "execution_count": null,
      "outputs": [
        {
          "output_type": "stream",
          "name": "stdout",
          "text": [
            "Initial randomised parameters : 4.6,5.1,2.5\n",
            "Expected output : [0 0 0 1]\n",
            "[1] Adaline's output: [2.5, 7.5, 6.6499999999999995, 10.8]; Parameters : [3.8499999999999996, 4.3, 1.2999999999999998]\n",
            "[2] Adaline's output: [1.2999999999999998, 5.55, 4.85, 8.5]; Parameters : [3.2999999999999994, 3.6999999999999997, 0.4499999999999998]\n",
            "[3] Adaline's output: [0.4499999999999998, 4.1499999999999995, 3.549999999999999, 6.749999999999998]; Parameters : [2.8999999999999995, 3.2499999999999996, -0.15000000000000024]\n",
            "[4] Adaline's output: [-0.15000000000000024, 3.099999999999999, 2.599999999999999, 5.499999999999998]; Parameters : [2.599999999999999, 2.8999999999999995, -0.6000000000000003]\n",
            "[5] Adaline's output: [-0.6000000000000003, 2.299999999999999, 1.899999999999999, 4.599999999999999]; Parameters : [2.3999999999999995, 2.6499999999999995, -0.9000000000000004]\n",
            "[6] Adaline's output: [-0.9000000000000004, 1.7499999999999991, 1.449999999999999, 3.949999999999999]; Parameters : [2.2499999999999996, 2.4999999999999996, -1.1000000000000005]\n",
            "[7] Adaline's output: [-1.1000000000000005, 1.449999999999999, 1.149999999999999, 3.499999999999999]; Parameters : [2.0999999999999996, 2.3499999999999996, -1.2500000000000007]\n",
            "[8] Adaline's output: [-1.2500000000000007, 1.149999999999999, 0.849999999999999, 3.1499999999999986]; Parameters : [1.9999999999999996, 2.1999999999999997, -1.3500000000000008]\n",
            "[9] Adaline's output: [-1.3500000000000008, 0.899999999999999, 0.6999999999999988, 2.8999999999999986]; Parameters : [1.9499999999999995, 2.15, -1.3500000000000008]\n",
            "Final parameters : 1.9499999999999995, 2.15, -1.3500000000000008\n"
          ]
        }
      ]
    },
    {
      "cell_type": "code",
      "source": [
        "# Adaline for the OR Gate\n",
        "adaline(x,out_OR,learning_rate,epochs)"
      ],
      "metadata": {
        "colab": {
          "base_uri": "https://localhost:8080/"
        },
        "id": "kKDDXLyNvi_h",
        "outputId": "d846405d-ba5c-4524-f7cf-fc35f3c421a8"
      },
      "execution_count": null,
      "outputs": [
        {
          "output_type": "stream",
          "name": "stdout",
          "text": [
            "Initial randomised parameters : 6.8,5.7,0.6\n",
            "Expected output : [0, 1, 1, 1]\n",
            "[1] Adaline's output: [0.6, 6.3, 7.1499999999999995, 12.0]; Parameters : [5.95, 4.9, -0.5000000000000001]\n",
            "[2] Adaline's output: [-0.5000000000000001, 4.4, 5.3, 9.65]; Parameters : [5.35, 4.35, -1.25]\n",
            "[3] Adaline's output: [-1.25, 3.1499999999999995, 4.05, 7.999999999999999]; Parameters : [4.8999999999999995, 3.95, -1.7500000000000002]\n",
            "[4] Adaline's output: [-1.7500000000000002, 2.25, 3.1499999999999995, 6.849999999999999]; Parameters : [4.55, 3.6500000000000004, -2.1000000000000005]\n",
            "[5] Adaline's output: [-2.1000000000000005, 1.65, 2.5499999999999994, 6.1]; Parameters : [4.25, 3.4000000000000004, -2.3000000000000003]\n",
            "[6] Adaline's output: [-2.3000000000000003, 1.2000000000000002, 2.05, 5.3500000000000005]; Parameters : [4.0, 3.2, -2.45]\n",
            "[7] Adaline's output: [-2.45, 0.8500000000000001, 1.65, 4.85]; Parameters : [3.85, 3.0500000000000003, -2.5]\n",
            "[8] Adaline's output: [-2.5, 0.6500000000000004, 1.4500000000000002, 4.5]; Parameters : [3.7, 2.9000000000000004, -2.55]\n",
            "[9] Adaline's output: [-2.55, 0.4500000000000006, 1.2500000000000004, 4.15]; Parameters : [3.5500000000000003, 2.7500000000000004, -2.5999999999999996]\n",
            "[10] Adaline's output: [-2.5999999999999996, 0.2500000000000009, 1.0500000000000007, 3.800000000000001]; Parameters : [3.45, 2.6500000000000004, -2.5999999999999996]\n",
            "Final parameters : 3.45, 2.6500000000000004, -2.5999999999999996\n"
          ]
        }
      ]
    },
    {
      "cell_type": "code",
      "source": [
        "# Adaline for the XOR Gate\n",
        "adaline(x,out_XOR,learning_rate,epochs)"
      ],
      "metadata": {
        "colab": {
          "base_uri": "https://localhost:8080/"
        },
        "id": "5nGblVqbvz9w",
        "outputId": "6ba23d4c-2d6c-44cc-e4ad-df46a75ed24b"
      },
      "execution_count": null,
      "outputs": [
        {
          "output_type": "stream",
          "name": "stdout",
          "text": [
            "Initial randomised parameters : 8.1,5.1,6.7\n",
            "Expected output : [0, 1, 1, 0]\n",
            "[1] Adaline's output: [6.7, 11.5, 14.0, 17.299999999999997]; Parameters : [6.6, 3.7499999999999996, 4.4]\n",
            "[2] Adaline's output: [4.4, 7.949999999999999, 10.5, 13.049999999999997]; Parameters : [5.499999999999999, 2.7999999999999994, 2.8000000000000003]\n",
            "[3] Adaline's output: [2.8000000000000003, 5.5, 7.999999999999999, 10.0]; Parameters : [4.699999999999999, 2.099999999999999, 1.7000000000000002]\n",
            "[4] Adaline's output: [1.7000000000000002, 3.749999999999999, 6.249999999999999, 7.749999999999998]; Parameters : [4.1, 1.649999999999999, 0.95]\n",
            "[5] Adaline's output: [0.95, 2.5999999999999988, 5.0, 6.199999999999998]; Parameters : [3.5999999999999996, 1.299999999999999, 0.3999999999999999]\n",
            "[6] Adaline's output: [0.3999999999999999, 1.6999999999999988, 3.9999999999999996, 5.099999999999999]; Parameters : [3.2499999999999996, 1.049999999999999, 0.04999999999999993]\n",
            "[7] Adaline's output: [0.04999999999999993, 1.0999999999999988, 3.2999999999999994, 4.149999999999999]; Parameters : [2.9499999999999993, 0.849999999999999, -0.2500000000000001]\n",
            "[8] Adaline's output: [-0.2500000000000001, 0.5999999999999989, 2.6999999999999993, 3.449999999999998]; Parameters : [2.7499999999999996, 0.699999999999999, -0.4500000000000001]\n",
            "[9] Adaline's output: [-0.4500000000000001, 0.24999999999999883, 2.2999999999999994, 2.8999999999999986]; Parameters : [2.5999999999999996, 0.599999999999999, -0.6000000000000001]\n",
            "[10] Adaline's output: [-0.6000000000000001, -1.1102230246251565e-15, 2.05, 2.5999999999999988]; Parameters : [2.4499999999999997, 0.549999999999999, -0.7000000000000001]\n",
            "[11] Adaline's output: [-0.7000000000000001, -0.15000000000000102, 1.7999999999999998, 2.399999999999999]; Parameters : [2.3499999999999996, 0.4999999999999991, -0.75]\n",
            "[12] Adaline's output: [-0.75, -0.2500000000000009, 1.6499999999999997, 2.1999999999999984]; Parameters : [2.2499999999999996, 0.4499999999999992, -0.7999999999999999]\n",
            "[13] Adaline's output: [-0.7999999999999999, -0.35000000000000075, 1.4999999999999996, 1.9999999999999987]; Parameters : [2.1999999999999997, 0.4499999999999992, -0.7999999999999999]\n",
            "Final parameters : 2.1999999999999997, 0.4499999999999992, -0.7999999999999999\n"
          ]
        }
      ]
    },
    {
      "cell_type": "code",
      "source": [],
      "metadata": {
        "id": "1ZIKT05_wEJA"
      },
      "execution_count": null,
      "outputs": []
    }
  ],
  "metadata": {
    "colab": {
      "provenance": []
    },
    "kernelspec": {
      "display_name": "Python 3",
      "language": "python",
      "name": "python3"
    },
    "language_info": {
      "codemirror_mode": {
        "name": "ipython",
        "version": 3
      },
      "file_extension": ".py",
      "mimetype": "text/x-python",
      "name": "python",
      "nbconvert_exporter": "python",
      "pygments_lexer": "ipython3",
      "version": "3.6.4"
    }
  },
  "nbformat": 4,
  "nbformat_minor": 0
}